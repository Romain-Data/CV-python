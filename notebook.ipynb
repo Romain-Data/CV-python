{
 "cells": [
  {
   "cell_type": "code",
   "execution_count": 3,
   "metadata": {},
   "outputs": [
    {
     "name": "stdout",
     "output_type": "stream",
     "text": [
      "Votre contact linkedin a bien été ajouté\n",
      "Votre contact github a bien été ajouté\n",
      "Nouvelle compétence ajoutée : Python\n",
      "Nouvelle compétence ajoutée : SQL\n",
      "Nouvelle compétence ajoutée : PowerBI\n",
      "Nouvelle compétence ajoutée : Machine learning\n",
      "Nouvelle compétence ajoutée : Cloud\n",
      "Nouvelle compétence ajoutée : Capacité d'apprentissage\n",
      "Nouvelle compétence ajoutée : Résolution de problème\n",
      "Nouvelle compétence ajoutée : Français\n",
      "Nouvelle compétence ajoutée : Anglais\n",
      "Nouvelles formation ajoutée : Data Analyst délivré par Wild Code School\n",
      "Nouvelles formation ajoutée : BTS Audiovisuel délivré par Lycée des Arènes\n",
      "Collaboration initié sur le projet : Production d'un tableau de bord de vente\n",
      "Collaboration initié sur le projet : Création d'un bot d'aide à la correction\n",
      "Collaboration initié sur le projet : Application type Marmiton\n",
      "Expérience ajoutée : Consultant Notion chez Auto-entreprise\n",
      "Expérience ajoutée : Responsable Logistique et Digital chez Équipage and Co\n",
      "Nouvelle passion ajoutée : Tennis\n"
     ]
    }
   ],
   "source": [
    "from professionnel import Experience, Formation, Professionnel, Projet\n",
    "\n",
    "\n",
    "super_profil = Professionnel(\"Collery\", \"Romain\", 32, \"Développeur Python\", \"romain.collery@protonmail.com\")\n",
    "\n",
    "super_profil.ajouter_contact(\"linkedin\", \"https://www.linkedin.com/in/romain-collery-4178b1130/\")\n",
    "super_profil.ajouter_contact(\"github\", \"https://github.com/Romain-Data\")\n",
    "\n",
    "super_profil.ajouter_competence(\"Python\", niveau=\"Intermédiaire\")\n",
    "super_profil.ajouter_competence(\"SQL\", niveau=\"Intermédiaire\")\n",
    "super_profil.ajouter_competence(\"PowerBI\", niveau=\"Intermédiaire\")\n",
    "super_profil.ajouter_competence(\"Machine learning\", niveau=\"Intermédiaire\")\n",
    "super_profil.ajouter_competence(\"Cloud\", niveau=\"Débutant\")\n",
    "super_profil.ajouter_competence(\"Capacité d'apprentissage\", categorie=\"soft_skills\")\n",
    "super_profil.ajouter_competence(\"Résolution de problème\", categorie=\"soft_skills\")\n",
    "super_profil.ajouter_competence(\"Français\", categorie=\"langues\", niveau=\"Natif\")\n",
    "super_profil.ajouter_competence(\"Anglais\", categorie=\"langues\", niveau=\"Courant\")\n",
    "\n",
    "\n",
    "super_profil.ajouter_formation(Formation(\"Data Analyst\", \"Wild Code School\", 2025))\n",
    "super_profil.ajouter_formation(Formation(\"BTS Audiovisuel\", \"Lycée des Arènes\", 2013))\n",
    "\n",
    "super_profil.ajouter_projet(Projet(\n",
    "    \"Production d'un tableau de bord de vente\",\n",
    "    \"\"\"- extraction / nettoyage de données *(SQL)*\n",
    "- création d’insights significatifs *(SQL/DAX)*\n",
    "- création d’un dashboard clair *(Power BI)*\"\"\"\n",
    "))\n",
    "super_profil.ajouter_projet(Projet(\n",
    "    \"Création d'un bot d'aide à la correction\",\n",
    "    \"\"\"- automatisation de la navigation web *(Helium)*\n",
    "- webscraping *(BeautifulSoup)*\n",
    "- utilisation de l'API Gemini\n",
    "- Programmation Orientée objet\"\"\"\n",
    "))\n",
    "super_profil.ajouter_projet(Projet(\n",
    "    \"Application type Marmiton\",\n",
    "    \"\"\"- utilisation des outils Cloud *(AWS S3 / RDS)*\n",
    "- utilisation d'outil ETL *(MageAI)*\n",
    "- intégration d'outil IA *(API Gemini)*\n",
    "- frontend *(Streamlit)*\"\"\"\n",
    "))\n",
    "\n",
    "super_profil.ajouter_experience(Experience(\n",
    "    \"Auto-entreprise\",\n",
    "    \"Consultant Notion\",\n",
    "    \"2020\",\n",
    "    description=\"\"\"- développement de solutions personnalisées de gestion de données\n",
    "- création de dashboards et d'outils d'analyse automatisés\"\"\"\n",
    "))\n",
    "super_profil.ajouter_experience(Experience(\n",
    "    \"Équipage and Co\",\n",
    "    \"Responsable Logistique et Digital\",\n",
    "    \"mai 2022\",\n",
    "    \"février 2024\",\n",
    "    \"\"\"- suivi de stock\n",
    "- organisation des équipes opérationnelles\n",
    "- mise en place de process pour réduire les erreurs de 10%\"\"\"\n",
    "))\n",
    "\n",
    "super_profil.ajouter_passion(\n",
    "    \"Tennis\",\n",
    "    \"15 ans de pratique en compétition et ancien président de club\"\n",
    ")\n"
   ]
  },
  {
   "cell_type": "code",
   "execution_count": 4,
   "metadata": {},
   "outputs": [
    {
     "data": {
      "text/markdown": [
       "# Romain Collery\n",
       "## Développeur Python\n",
       "\n",
       "### À propos\n",
       "Professionnel passionné avec une expertise en Python, SQL, PowerBI\n",
       "\n",
       "### Projets\n",
       "**Production d'un tableau de bord de vente**\n",
       "- extraction / nettoyage de données *(SQL)*\n",
       "- création d’insights significatifs *(SQL/DAX)*\n",
       "- création d’un dashboard clair *(Power BI)*\n",
       "\n",
       "**Création d'un bot d'aide à la correction**\n",
       "- automatisation de la navigation web *(Helium)*\n",
       "- webscraping *(BeautifulSoup)*\n",
       "- utilisation de l'API Gemini\n",
       "- Programmation Orientée objet\n",
       "\n",
       "**Application type Marmiton**\n",
       "- utilisation des outils Cloud *(AWS S3 / RDS)*\n",
       "- utilisation d'outil ETL *(MageAI)*\n",
       "- intégration d'outil IA *(API Gemini)*\n",
       "- frontend *(Streamlit)*\n",
       "\n",
       "### Formations \n",
       "\n",
       "Data Analyst délivré par Wild Code School en 2025 \n",
       "\n",
       "BTS Audiovisuel délivré par Lycée des Arènes en 2013 \n",
       "\n",
       "\n",
       "### Compétences\n",
       "\n",
       "**Techniques**: \n",
       "- Python  - Intermédiaire\n",
       "- SQL  - Intermédiaire\n",
       "- PowerBI  - Intermédiaire\n",
       "- Machine learning  - Intermédiaire\n",
       "- Cloud  - Débutant\n",
       "\n",
       "**Soft_skills**: \n",
       "- Capacité d'apprentissage  \n",
       "- Résolution de problème  \n",
       "\n",
       "**Langues**: \n",
       "- Français  - Natif\n",
       "- Anglais  - Courant\n",
       "### Expériences récentes\n",
       "\n",
       "**Consultant Notion** chez Auto-entreprise (2020 - Présent)\n",
       "- développement de solutions personnalisées de gestion de données\n",
       "- création de dashboards et d'outils d'analyse automatisés\n",
       "\n",
       "**Responsable Logistique et Digital** chez Équipage and Co (mai 2022 - février 2024)\n",
       "- suivi de stock\n",
       "- organisation des équipes opérationnelles\n",
       "- mise en place de process pour réduire les erreurs de 10%\n",
       "\n",
       "### Passions\n",
       "Tennis - 15 ans de pratique en compétition et ancien président de club"
      ],
      "text/plain": [
       "<IPython.core.display.Markdown object>"
      ]
     },
     "metadata": {},
     "output_type": "display_data"
    }
   ],
   "source": [
    "super_profil.voir_cv()"
   ]
  },
  {
   "cell_type": "code",
   "execution_count": 5,
   "metadata": {},
   "outputs": [
    {
     "data": {
      "text/plain": [
       "'Vous pouvez me contacter via linkedin: https://www.linkedin.com/in/romain-collery-4178b1130/'"
      ]
     },
     "execution_count": 5,
     "metadata": {},
     "output_type": "execute_result"
    }
   ],
   "source": [
    "super_profil.contacter('linkedin')"
   ]
  },
  {
   "cell_type": "code",
   "execution_count": 6,
   "metadata": {},
   "outputs": [],
   "source": [
    "super_profil.sauvegarder_cv()"
   ]
  },
  {
   "cell_type": "code",
   "execution_count": 17,
   "metadata": {},
   "outputs": [
    {
     "data": {
      "text/plain": [
       "True"
      ]
     },
     "execution_count": 17,
     "metadata": {},
     "output_type": "execute_result"
    }
   ],
   "source": [
    "comp = {\n",
    "    \"technique\":[],\n",
    "    \"langues\": []\n",
    "}\n",
    "not any(comp.values())"
   ]
  }
 ],
 "metadata": {
  "kernelspec": {
   "display_name": "venv",
   "language": "python",
   "name": "python3"
  },
  "language_info": {
   "codemirror_mode": {
    "name": "ipython",
    "version": 3
   },
   "file_extension": ".py",
   "mimetype": "text/x-python",
   "name": "python",
   "nbconvert_exporter": "python",
   "pygments_lexer": "ipython3",
   "version": "3.12.4"
  }
 },
 "nbformat": 4,
 "nbformat_minor": 2
}
